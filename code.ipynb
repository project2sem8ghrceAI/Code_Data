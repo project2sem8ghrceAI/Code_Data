{
 "cells": [
  {
   "cell_type": "code",
   "execution_count": 1,
   "metadata": {},
   "outputs": [],
   "source": [
    "import numpy as np\n",
    "import pandas as pd\n",
    "import tensorflow as tf"
   ]
  },
  {
   "cell_type": "code",
   "execution_count": 2,
   "metadata": {},
   "outputs": [],
   "source": [
    "#For pre-processing\n",
    "from sklearn.preprocessing import OneHotEncoder, StandardScaler\n",
    "from sklearn.compose import ColumnTransformer\n",
    "\n",
    "# For splitting data into training and testing\n",
    "from sklearn.model_selection import train_test_split\n",
    "\n",
    "# metrics for calculations\n",
    "from sklearn.metrics import mean_squared_error, r2_score,mean_absolute_error\n",
    "\n",
    "#various machine learning models\n",
    "from sklearn.neighbors import KNeighborsRegressor\n",
    "from sklearn.tree import DecisionTreeRegressor\n",
    "from sklearn.ensemble import RandomForestRegressor,AdaBoostRegressor\n",
    "from sklearn.svm import SVR\n",
    "from sklearn.linear_model import LinearRegression, Ridge,Lasso\n",
    "from catboost import CatBoostRegressor\n",
    "from xgboost import XGBRegressor\n",
    "\n",
    "#for data visualization \n",
    "import matplotlib.pyplot as plt\n",
    "import seaborn as sns\n",
    "from sklearn.metrics import confusion_matrix , classification_report\n",
    "# for hyperParameterTuning\n",
    "from sklearn.model_selection import RandomizedSearchCV\n",
    "from sklearn.model_selection import GridSearchCV\n",
    "\n",
    "# for creating deep learning models\n",
    "from tensorflow import keras\n",
    "from tensorflow.keras import layers\n"
   ]
  },
  {
   "cell_type": "code",
   "execution_count": 3,
   "metadata": {},
   "outputs": [],
   "source": [
    "df = pd.read_csv('data.csv', sep = '|')"
   ]
  },
  {
   "cell_type": "code",
   "execution_count": 4,
   "metadata": {},
   "outputs": [
    {
     "data": {
      "text/html": [
       "<div>\n",
       "<style scoped>\n",
       "    .dataframe tbody tr th:only-of-type {\n",
       "        vertical-align: middle;\n",
       "    }\n",
       "\n",
       "    .dataframe tbody tr th {\n",
       "        vertical-align: top;\n",
       "    }\n",
       "\n",
       "    .dataframe thead th {\n",
       "        text-align: right;\n",
       "    }\n",
       "</style>\n",
       "<table border=\"1\" class=\"dataframe\">\n",
       "  <thead>\n",
       "    <tr style=\"text-align: right;\">\n",
       "      <th></th>\n",
       "      <th>Name</th>\n",
       "      <th>md5</th>\n",
       "      <th>Machine</th>\n",
       "      <th>SizeOfOptionalHeader</th>\n",
       "      <th>Characteristics</th>\n",
       "      <th>MajorLinkerVersion</th>\n",
       "      <th>MinorLinkerVersion</th>\n",
       "      <th>SizeOfCode</th>\n",
       "      <th>SizeOfInitializedData</th>\n",
       "      <th>SizeOfUninitializedData</th>\n",
       "      <th>...</th>\n",
       "      <th>ResourcesNb</th>\n",
       "      <th>ResourcesMeanEntropy</th>\n",
       "      <th>ResourcesMinEntropy</th>\n",
       "      <th>ResourcesMaxEntropy</th>\n",
       "      <th>ResourcesMeanSize</th>\n",
       "      <th>ResourcesMinSize</th>\n",
       "      <th>ResourcesMaxSize</th>\n",
       "      <th>LoadConfigurationSize</th>\n",
       "      <th>VersionInformationSize</th>\n",
       "      <th>legitimate</th>\n",
       "    </tr>\n",
       "  </thead>\n",
       "  <tbody>\n",
       "    <tr>\n",
       "      <th>0</th>\n",
       "      <td>Windows.Internal.Shell.Broker.dll</td>\n",
       "      <td>09e83f1d1c99ad33009dbe6fb129c2d9</td>\n",
       "      <td>34404</td>\n",
       "      <td>240</td>\n",
       "      <td>8226</td>\n",
       "      <td>14</td>\n",
       "      <td>12</td>\n",
       "      <td>779776</td>\n",
       "      <td>253952</td>\n",
       "      <td>0</td>\n",
       "      <td>...</td>\n",
       "      <td>2</td>\n",
       "      <td>3.072050</td>\n",
       "      <td>2.706833</td>\n",
       "      <td>3.437268</td>\n",
       "      <td>604.000000</td>\n",
       "      <td>200</td>\n",
       "      <td>1008</td>\n",
       "      <td>256</td>\n",
       "      <td>16</td>\n",
       "      <td>1</td>\n",
       "    </tr>\n",
       "    <tr>\n",
       "      <th>1</th>\n",
       "      <td>hidserv.dll</td>\n",
       "      <td>3030f19c6a73367d6d5eedd157f5d01a</td>\n",
       "      <td>34404</td>\n",
       "      <td>240</td>\n",
       "      <td>8226</td>\n",
       "      <td>14</td>\n",
       "      <td>12</td>\n",
       "      <td>21504</td>\n",
       "      <td>13312</td>\n",
       "      <td>0</td>\n",
       "      <td>...</td>\n",
       "      <td>3</td>\n",
       "      <td>3.056204</td>\n",
       "      <td>2.709457</td>\n",
       "      <td>3.465499</td>\n",
       "      <td>515.333333</td>\n",
       "      <td>200</td>\n",
       "      <td>932</td>\n",
       "      <td>256</td>\n",
       "      <td>16</td>\n",
       "      <td>1</td>\n",
       "    </tr>\n",
       "    <tr>\n",
       "      <th>2</th>\n",
       "      <td>DmApiSetExtImplDesktop.dll</td>\n",
       "      <td>8271846f8f5dd1cfddaa957b1b9da1a2</td>\n",
       "      <td>34404</td>\n",
       "      <td>240</td>\n",
       "      <td>8226</td>\n",
       "      <td>14</td>\n",
       "      <td>12</td>\n",
       "      <td>33792</td>\n",
       "      <td>27648</td>\n",
       "      <td>0</td>\n",
       "      <td>...</td>\n",
       "      <td>1</td>\n",
       "      <td>3.466474</td>\n",
       "      <td>3.466474</td>\n",
       "      <td>3.466474</td>\n",
       "      <td>980.000000</td>\n",
       "      <td>980</td>\n",
       "      <td>980</td>\n",
       "      <td>256</td>\n",
       "      <td>16</td>\n",
       "      <td>1</td>\n",
       "    </tr>\n",
       "    <tr>\n",
       "      <th>3</th>\n",
       "      <td>FSResizerSetup27.exe</td>\n",
       "      <td>5802b4215566bb9593a736e945a28e99</td>\n",
       "      <td>332</td>\n",
       "      <td>224</td>\n",
       "      <td>271</td>\n",
       "      <td>6</td>\n",
       "      <td>0</td>\n",
       "      <td>23552</td>\n",
       "      <td>164864</td>\n",
       "      <td>1024</td>\n",
       "      <td>...</td>\n",
       "      <td>9</td>\n",
       "      <td>3.032143</td>\n",
       "      <td>1.971335</td>\n",
       "      <td>5.102472</td>\n",
       "      <td>363.444444</td>\n",
       "      <td>34</td>\n",
       "      <td>744</td>\n",
       "      <td>0</td>\n",
       "      <td>0</td>\n",
       "      <td>1</td>\n",
       "    </tr>\n",
       "    <tr>\n",
       "      <th>4</th>\n",
       "      <td>asc-setup.exe</td>\n",
       "      <td>8cb1fb45489d065720285deeccbacd98</td>\n",
       "      <td>332</td>\n",
       "      <td>224</td>\n",
       "      <td>33167</td>\n",
       "      <td>2</td>\n",
       "      <td>25</td>\n",
       "      <td>87040</td>\n",
       "      <td>71680</td>\n",
       "      <td>0</td>\n",
       "      <td>...</td>\n",
       "      <td>19</td>\n",
       "      <td>4.402265</td>\n",
       "      <td>2.699131</td>\n",
       "      <td>6.600332</td>\n",
       "      <td>3275.473684</td>\n",
       "      <td>16</td>\n",
       "      <td>33512</td>\n",
       "      <td>0</td>\n",
       "      <td>15</td>\n",
       "      <td>1</td>\n",
       "    </tr>\n",
       "  </tbody>\n",
       "</table>\n",
       "<p>5 rows × 57 columns</p>\n",
       "</div>"
      ],
      "text/plain": [
       "                                Name                               md5   \n",
       "0  Windows.Internal.Shell.Broker.dll  09e83f1d1c99ad33009dbe6fb129c2d9  \\\n",
       "1                        hidserv.dll  3030f19c6a73367d6d5eedd157f5d01a   \n",
       "2         DmApiSetExtImplDesktop.dll  8271846f8f5dd1cfddaa957b1b9da1a2   \n",
       "3               FSResizerSetup27.exe  5802b4215566bb9593a736e945a28e99   \n",
       "4                      asc-setup.exe  8cb1fb45489d065720285deeccbacd98   \n",
       "\n",
       "   Machine  SizeOfOptionalHeader  Characteristics  MajorLinkerVersion   \n",
       "0    34404                   240             8226                  14  \\\n",
       "1    34404                   240             8226                  14   \n",
       "2    34404                   240             8226                  14   \n",
       "3      332                   224              271                   6   \n",
       "4      332                   224            33167                   2   \n",
       "\n",
       "   MinorLinkerVersion  SizeOfCode  SizeOfInitializedData   \n",
       "0                  12      779776                 253952  \\\n",
       "1                  12       21504                  13312   \n",
       "2                  12       33792                  27648   \n",
       "3                   0       23552                 164864   \n",
       "4                  25       87040                  71680   \n",
       "\n",
       "   SizeOfUninitializedData  ...  ResourcesNb  ResourcesMeanEntropy   \n",
       "0                        0  ...            2              3.072050  \\\n",
       "1                        0  ...            3              3.056204   \n",
       "2                        0  ...            1              3.466474   \n",
       "3                     1024  ...            9              3.032143   \n",
       "4                        0  ...           19              4.402265   \n",
       "\n",
       "   ResourcesMinEntropy  ResourcesMaxEntropy  ResourcesMeanSize   \n",
       "0             2.706833             3.437268         604.000000  \\\n",
       "1             2.709457             3.465499         515.333333   \n",
       "2             3.466474             3.466474         980.000000   \n",
       "3             1.971335             5.102472         363.444444   \n",
       "4             2.699131             6.600332        3275.473684   \n",
       "\n",
       "   ResourcesMinSize  ResourcesMaxSize  LoadConfigurationSize   \n",
       "0               200              1008                    256  \\\n",
       "1               200               932                    256   \n",
       "2               980               980                    256   \n",
       "3                34               744                      0   \n",
       "4                16             33512                      0   \n",
       "\n",
       "   VersionInformationSize  legitimate  \n",
       "0                      16           1  \n",
       "1                      16           1  \n",
       "2                      16           1  \n",
       "3                       0           1  \n",
       "4                      15           1  \n",
       "\n",
       "[5 rows x 57 columns]"
      ]
     },
     "execution_count": 4,
     "metadata": {},
     "output_type": "execute_result"
    }
   ],
   "source": [
    "df.head()"
   ]
  },
  {
   "attachments": {},
   "cell_type": "markdown",
   "metadata": {},
   "source": [
    "## Data Analysis"
   ]
  },
  {
   "cell_type": "code",
   "execution_count": 5,
   "metadata": {},
   "outputs": [
    {
     "data": {
      "text/plain": [
       "(10539, 57)"
      ]
     },
     "execution_count": 5,
     "metadata": {},
     "output_type": "execute_result"
    }
   ],
   "source": [
    "df.shape"
   ]
  },
  {
   "cell_type": "code",
   "execution_count": 6,
   "metadata": {},
   "outputs": [
    {
     "data": {
      "text/plain": [
       "0"
      ]
     },
     "execution_count": 6,
     "metadata": {},
     "output_type": "execute_result"
    }
   ],
   "source": [
    "df.isna().sum().sum()"
   ]
  },
  {
   "cell_type": "code",
   "execution_count": 7,
   "metadata": {},
   "outputs": [
    {
     "data": {
      "text/plain": [
       "0"
      ]
     },
     "execution_count": 7,
     "metadata": {},
     "output_type": "execute_result"
    }
   ],
   "source": [
    "df.duplicated().sum()"
   ]
  },
  {
   "cell_type": "code",
   "execution_count": 8,
   "metadata": {},
   "outputs": [
    {
     "data": {
      "text/plain": [
       "Name                           10539\n",
       "md5                            10531\n",
       "Machine                            2\n",
       "SizeOfOptionalHeader               3\n",
       "Characteristics                   53\n",
       "MajorLinkerVersion                27\n",
       "MinorLinkerVersion                35\n",
       "SizeOfCode                      1782\n",
       "SizeOfInitializedData           1656\n",
       "SizeOfUninitializedData          197\n",
       "AddressOfEntryPoint             4972\n",
       "BaseOfCode                       188\n",
       "BaseOfData                       496\n",
       "ImageBase                        190\n",
       "SectionAlignment                   4\n",
       "FileAlignment                      5\n",
       "MajorOperatingSystemVersion        7\n",
       "MinorOperatingSystemVersion        5\n",
       "MajorImageVersion                 18\n",
       "MinorImageVersion                 29\n",
       "MajorSubsystemVersion              6\n",
       "MinorSubsystemVersion              5\n",
       "SizeOfImage                     1084\n",
       "SizeOfHeaders                      9\n",
       "CheckSum                        5486\n",
       "Subsystem                          4\n",
       "DllCharacteristics                43\n",
       "SizeOfStackReserve                21\n",
       "SizeOfStackCommit                  9\n",
       "SizeOfHeapReserve                 18\n",
       "SizeOfHeapCommit                   5\n",
       "LoaderFlags                        2\n",
       "NumberOfRvaAndSizes                9\n",
       "SectionsNb                        18\n",
       "SectionsMeanEntropy             8349\n",
       "SectionsMinEntropy              3458\n",
       "SectionsMaxEntropy              7487\n",
       "SectionsMeanRawsize             3863\n",
       "SectionsMinRawsize               121\n",
       "SectionMaxRawsize               2173\n",
       "SectionsMeanVirtualsize         6649\n",
       "SectionsMinVirtualsize          1395\n",
       "SectionMaxVirtualsize           5983\n",
       "ImportsNbDLL                      83\n",
       "ImportsNb                        598\n",
       "ImportsNbOrdinal                 106\n",
       "ExportNb                         274\n",
       "ResourcesNb                      230\n",
       "ResourcesMeanEntropy            7161\n",
       "ResourcesMinEntropy             3550\n",
       "ResourcesMaxEntropy             5859\n",
       "ResourcesMeanSize               3948\n",
       "ResourcesMinSize                 401\n",
       "ResourcesMaxSize                2030\n",
       "LoadConfigurationSize             12\n",
       "VersionInformationSize            16\n",
       "legitimate                         2\n",
       "dtype: int64"
      ]
     },
     "execution_count": 8,
     "metadata": {},
     "output_type": "execute_result"
    }
   ],
   "source": [
    "df.nunique()"
   ]
  },
  {
   "cell_type": "code",
   "execution_count": 9,
   "metadata": {},
   "outputs": [
    {
     "data": {
      "text/html": [
       "<div>\n",
       "<style scoped>\n",
       "    .dataframe tbody tr th:only-of-type {\n",
       "        vertical-align: middle;\n",
       "    }\n",
       "\n",
       "    .dataframe tbody tr th {\n",
       "        vertical-align: top;\n",
       "    }\n",
       "\n",
       "    .dataframe thead th {\n",
       "        text-align: right;\n",
       "    }\n",
       "</style>\n",
       "<table border=\"1\" class=\"dataframe\">\n",
       "  <thead>\n",
       "    <tr style=\"text-align: right;\">\n",
       "      <th></th>\n",
       "      <th>Machine</th>\n",
       "      <th>SizeOfOptionalHeader</th>\n",
       "      <th>Characteristics</th>\n",
       "      <th>MajorLinkerVersion</th>\n",
       "      <th>MinorLinkerVersion</th>\n",
       "      <th>SizeOfCode</th>\n",
       "      <th>SizeOfInitializedData</th>\n",
       "      <th>SizeOfUninitializedData</th>\n",
       "      <th>AddressOfEntryPoint</th>\n",
       "      <th>BaseOfCode</th>\n",
       "      <th>...</th>\n",
       "      <th>ResourcesNb</th>\n",
       "      <th>ResourcesMeanEntropy</th>\n",
       "      <th>ResourcesMinEntropy</th>\n",
       "      <th>ResourcesMaxEntropy</th>\n",
       "      <th>ResourcesMeanSize</th>\n",
       "      <th>ResourcesMinSize</th>\n",
       "      <th>ResourcesMaxSize</th>\n",
       "      <th>LoadConfigurationSize</th>\n",
       "      <th>VersionInformationSize</th>\n",
       "      <th>legitimate</th>\n",
       "    </tr>\n",
       "  </thead>\n",
       "  <tbody>\n",
       "    <tr>\n",
       "      <th>count</th>\n",
       "      <td>10539.000000</td>\n",
       "      <td>10539.000000</td>\n",
       "      <td>10539.000000</td>\n",
       "      <td>10539.000000</td>\n",
       "      <td>10539.000000</td>\n",
       "      <td>1.053900e+04</td>\n",
       "      <td>1.053900e+04</td>\n",
       "      <td>1.053900e+04</td>\n",
       "      <td>1.053900e+04</td>\n",
       "      <td>1.053900e+04</td>\n",
       "      <td>...</td>\n",
       "      <td>10539.000000</td>\n",
       "      <td>10539.000000</td>\n",
       "      <td>10539.000000</td>\n",
       "      <td>10539.000000</td>\n",
       "      <td>1.053900e+04</td>\n",
       "      <td>10539.000000</td>\n",
       "      <td>1.053900e+04</td>\n",
       "      <td>1.053900e+04</td>\n",
       "      <td>10539.000000</td>\n",
       "      <td>10539.000000</td>\n",
       "    </tr>\n",
       "    <tr>\n",
       "      <th>mean</th>\n",
       "      <td>10897.261979</td>\n",
       "      <td>228.981118</td>\n",
       "      <td>6690.892115</td>\n",
       "      <td>11.002277</td>\n",
       "      <td>8.951513</td>\n",
       "      <td>1.318032e+06</td>\n",
       "      <td>1.048309e+06</td>\n",
       "      <td>2.818828e+05</td>\n",
       "      <td>3.815470e+05</td>\n",
       "      <td>5.756487e+04</td>\n",
       "      <td>...</td>\n",
       "      <td>19.825505</td>\n",
       "      <td>3.720452</td>\n",
       "      <td>2.245625</td>\n",
       "      <td>5.488690</td>\n",
       "      <td>2.555231e+04</td>\n",
       "      <td>280.169845</td>\n",
       "      <td>2.383246e+05</td>\n",
       "      <td>1.517926e+05</td>\n",
       "      <td>11.036057</td>\n",
       "      <td>0.335895</td>\n",
       "    </tr>\n",
       "    <tr>\n",
       "      <th>std</th>\n",
       "      <td>15760.025794</td>\n",
       "      <td>7.525192</td>\n",
       "      <td>10279.733735</td>\n",
       "      <td>7.423987</td>\n",
       "      <td>11.159629</td>\n",
       "      <td>3.752865e+07</td>\n",
       "      <td>2.655705e+07</td>\n",
       "      <td>1.527909e+07</td>\n",
       "      <td>1.774100e+06</td>\n",
       "      <td>9.568175e+05</td>\n",
       "      <td>...</td>\n",
       "      <td>82.190732</td>\n",
       "      <td>1.015392</td>\n",
       "      <td>1.145585</td>\n",
       "      <td>1.895338</td>\n",
       "      <td>1.150441e+05</td>\n",
       "      <td>1631.936775</td>\n",
       "      <td>1.311310e+06</td>\n",
       "      <td>1.557227e+07</td>\n",
       "      <td>7.295529</td>\n",
       "      <td>0.472325</td>\n",
       "    </tr>\n",
       "    <tr>\n",
       "      <th>min</th>\n",
       "      <td>332.000000</td>\n",
       "      <td>224.000000</td>\n",
       "      <td>2.000000</td>\n",
       "      <td>0.000000</td>\n",
       "      <td>0.000000</td>\n",
       "      <td>0.000000e+00</td>\n",
       "      <td>0.000000e+00</td>\n",
       "      <td>0.000000e+00</td>\n",
       "      <td>0.000000e+00</td>\n",
       "      <td>0.000000e+00</td>\n",
       "      <td>...</td>\n",
       "      <td>0.000000</td>\n",
       "      <td>0.000000</td>\n",
       "      <td>0.000000</td>\n",
       "      <td>0.000000</td>\n",
       "      <td>0.000000e+00</td>\n",
       "      <td>0.000000</td>\n",
       "      <td>0.000000e+00</td>\n",
       "      <td>0.000000e+00</td>\n",
       "      <td>0.000000</td>\n",
       "      <td>0.000000</td>\n",
       "    </tr>\n",
       "    <tr>\n",
       "      <th>25%</th>\n",
       "      <td>332.000000</td>\n",
       "      <td>224.000000</td>\n",
       "      <td>258.000000</td>\n",
       "      <td>6.000000</td>\n",
       "      <td>0.000000</td>\n",
       "      <td>4.300800e+04</td>\n",
       "      <td>3.993600e+04</td>\n",
       "      <td>0.000000e+00</td>\n",
       "      <td>1.286000e+04</td>\n",
       "      <td>4.096000e+03</td>\n",
       "      <td>...</td>\n",
       "      <td>2.000000</td>\n",
       "      <td>3.352950</td>\n",
       "      <td>1.569330</td>\n",
       "      <td>3.661073</td>\n",
       "      <td>8.744286e+02</td>\n",
       "      <td>20.000000</td>\n",
       "      <td>9.840000e+02</td>\n",
       "      <td>0.000000e+00</td>\n",
       "      <td>0.000000</td>\n",
       "      <td>0.000000</td>\n",
       "    </tr>\n",
       "    <tr>\n",
       "      <th>50%</th>\n",
       "      <td>332.000000</td>\n",
       "      <td>224.000000</td>\n",
       "      <td>271.000000</td>\n",
       "      <td>14.000000</td>\n",
       "      <td>11.000000</td>\n",
       "      <td>1.658880e+05</td>\n",
       "      <td>1.628160e+05</td>\n",
       "      <td>0.000000e+00</td>\n",
       "      <td>7.164400e+04</td>\n",
       "      <td>4.096000e+03</td>\n",
       "      <td>...</td>\n",
       "      <td>6.000000</td>\n",
       "      <td>3.667685</td>\n",
       "      <td>2.434955</td>\n",
       "      <td>5.214816</td>\n",
       "      <td>2.196800e+03</td>\n",
       "      <td>104.000000</td>\n",
       "      <td>9.640000e+03</td>\n",
       "      <td>9.200000e+01</td>\n",
       "      <td>16.000000</td>\n",
       "      <td>0.000000</td>\n",
       "    </tr>\n",
       "    <tr>\n",
       "      <th>75%</th>\n",
       "      <td>34404.000000</td>\n",
       "      <td>240.000000</td>\n",
       "      <td>8226.000000</td>\n",
       "      <td>14.000000</td>\n",
       "      <td>12.000000</td>\n",
       "      <td>4.003840e+05</td>\n",
       "      <td>8.668160e+05</td>\n",
       "      <td>0.000000e+00</td>\n",
       "      <td>2.012160e+05</td>\n",
       "      <td>4.096000e+03</td>\n",
       "      <td>...</td>\n",
       "      <td>19.000000</td>\n",
       "      <td>4.193130</td>\n",
       "      <td>3.012886</td>\n",
       "      <td>7.544784</td>\n",
       "      <td>1.242508e+04</td>\n",
       "      <td>240.000000</td>\n",
       "      <td>8.246400e+04</td>\n",
       "      <td>2.560000e+02</td>\n",
       "      <td>16.000000</td>\n",
       "      <td>1.000000</td>\n",
       "    </tr>\n",
       "    <tr>\n",
       "      <th>max</th>\n",
       "      <td>34404.000000</td>\n",
       "      <td>328.000000</td>\n",
       "      <td>41358.000000</td>\n",
       "      <td>127.000000</td>\n",
       "      <td>165.000000</td>\n",
       "      <td>1.766614e+09</td>\n",
       "      <td>1.918989e+09</td>\n",
       "      <td>1.070112e+09</td>\n",
       "      <td>6.673171e+07</td>\n",
       "      <td>6.203392e+07</td>\n",
       "      <td>...</td>\n",
       "      <td>4385.000000</td>\n",
       "      <td>7.998279</td>\n",
       "      <td>7.998279</td>\n",
       "      <td>7.999994</td>\n",
       "      <td>6.189540e+06</td>\n",
       "      <td>89912.000000</td>\n",
       "      <td>6.003751e+07</td>\n",
       "      <td>1.598644e+09</td>\n",
       "      <td>21.000000</td>\n",
       "      <td>1.000000</td>\n",
       "    </tr>\n",
       "  </tbody>\n",
       "</table>\n",
       "<p>8 rows × 55 columns</p>\n",
       "</div>"
      ],
      "text/plain": [
       "            Machine  SizeOfOptionalHeader  Characteristics   \n",
       "count  10539.000000          10539.000000     10539.000000  \\\n",
       "mean   10897.261979            228.981118      6690.892115   \n",
       "std    15760.025794              7.525192     10279.733735   \n",
       "min      332.000000            224.000000         2.000000   \n",
       "25%      332.000000            224.000000       258.000000   \n",
       "50%      332.000000            224.000000       271.000000   \n",
       "75%    34404.000000            240.000000      8226.000000   \n",
       "max    34404.000000            328.000000     41358.000000   \n",
       "\n",
       "       MajorLinkerVersion  MinorLinkerVersion    SizeOfCode   \n",
       "count        10539.000000        10539.000000  1.053900e+04  \\\n",
       "mean            11.002277            8.951513  1.318032e+06   \n",
       "std              7.423987           11.159629  3.752865e+07   \n",
       "min              0.000000            0.000000  0.000000e+00   \n",
       "25%              6.000000            0.000000  4.300800e+04   \n",
       "50%             14.000000           11.000000  1.658880e+05   \n",
       "75%             14.000000           12.000000  4.003840e+05   \n",
       "max            127.000000          165.000000  1.766614e+09   \n",
       "\n",
       "       SizeOfInitializedData  SizeOfUninitializedData  AddressOfEntryPoint   \n",
       "count           1.053900e+04             1.053900e+04         1.053900e+04  \\\n",
       "mean            1.048309e+06             2.818828e+05         3.815470e+05   \n",
       "std             2.655705e+07             1.527909e+07         1.774100e+06   \n",
       "min             0.000000e+00             0.000000e+00         0.000000e+00   \n",
       "25%             3.993600e+04             0.000000e+00         1.286000e+04   \n",
       "50%             1.628160e+05             0.000000e+00         7.164400e+04   \n",
       "75%             8.668160e+05             0.000000e+00         2.012160e+05   \n",
       "max             1.918989e+09             1.070112e+09         6.673171e+07   \n",
       "\n",
       "         BaseOfCode  ...   ResourcesNb  ResourcesMeanEntropy   \n",
       "count  1.053900e+04  ...  10539.000000          10539.000000  \\\n",
       "mean   5.756487e+04  ...     19.825505              3.720452   \n",
       "std    9.568175e+05  ...     82.190732              1.015392   \n",
       "min    0.000000e+00  ...      0.000000              0.000000   \n",
       "25%    4.096000e+03  ...      2.000000              3.352950   \n",
       "50%    4.096000e+03  ...      6.000000              3.667685   \n",
       "75%    4.096000e+03  ...     19.000000              4.193130   \n",
       "max    6.203392e+07  ...   4385.000000              7.998279   \n",
       "\n",
       "       ResourcesMinEntropy  ResourcesMaxEntropy  ResourcesMeanSize   \n",
       "count         10539.000000         10539.000000       1.053900e+04  \\\n",
       "mean              2.245625             5.488690       2.555231e+04   \n",
       "std               1.145585             1.895338       1.150441e+05   \n",
       "min               0.000000             0.000000       0.000000e+00   \n",
       "25%               1.569330             3.661073       8.744286e+02   \n",
       "50%               2.434955             5.214816       2.196800e+03   \n",
       "75%               3.012886             7.544784       1.242508e+04   \n",
       "max               7.998279             7.999994       6.189540e+06   \n",
       "\n",
       "       ResourcesMinSize  ResourcesMaxSize  LoadConfigurationSize   \n",
       "count      10539.000000      1.053900e+04           1.053900e+04  \\\n",
       "mean         280.169845      2.383246e+05           1.517926e+05   \n",
       "std         1631.936775      1.311310e+06           1.557227e+07   \n",
       "min            0.000000      0.000000e+00           0.000000e+00   \n",
       "25%           20.000000      9.840000e+02           0.000000e+00   \n",
       "50%          104.000000      9.640000e+03           9.200000e+01   \n",
       "75%          240.000000      8.246400e+04           2.560000e+02   \n",
       "max        89912.000000      6.003751e+07           1.598644e+09   \n",
       "\n",
       "       VersionInformationSize    legitimate  \n",
       "count            10539.000000  10539.000000  \n",
       "mean                11.036057      0.335895  \n",
       "std                  7.295529      0.472325  \n",
       "min                  0.000000      0.000000  \n",
       "25%                  0.000000      0.000000  \n",
       "50%                 16.000000      0.000000  \n",
       "75%                 16.000000      1.000000  \n",
       "max                 21.000000      1.000000  \n",
       "\n",
       "[8 rows x 55 columns]"
      ]
     },
     "execution_count": 9,
     "metadata": {},
     "output_type": "execute_result"
    }
   ],
   "source": [
    "df.describe()"
   ]
  },
  {
   "cell_type": "code",
   "execution_count": 10,
   "metadata": {},
   "outputs": [
    {
     "name": "stdout",
     "output_type": "stream",
     "text": [
      "We have 55 numerical features : ['Machine', 'SizeOfOptionalHeader', 'Characteristics', 'MajorLinkerVersion', 'MinorLinkerVersion', 'SizeOfCode', 'SizeOfInitializedData', 'SizeOfUninitializedData', 'AddressOfEntryPoint', 'BaseOfCode', 'BaseOfData', 'ImageBase', 'SectionAlignment', 'FileAlignment', 'MajorOperatingSystemVersion', 'MinorOperatingSystemVersion', 'MajorImageVersion', 'MinorImageVersion', 'MajorSubsystemVersion', 'MinorSubsystemVersion', 'SizeOfImage', 'SizeOfHeaders', 'CheckSum', 'Subsystem', 'DllCharacteristics', 'SizeOfStackReserve', 'SizeOfStackCommit', 'SizeOfHeapReserve', 'SizeOfHeapCommit', 'LoaderFlags', 'NumberOfRvaAndSizes', 'SectionsNb', 'SectionsMeanEntropy', 'SectionsMinEntropy', 'SectionsMaxEntropy', 'SectionsMeanRawsize', 'SectionsMinRawsize', 'SectionMaxRawsize', 'SectionsMeanVirtualsize', 'SectionsMinVirtualsize', 'SectionMaxVirtualsize', 'ImportsNbDLL', 'ImportsNb', 'ImportsNbOrdinal', 'ExportNb', 'ResourcesNb', 'ResourcesMeanEntropy', 'ResourcesMinEntropy', 'ResourcesMaxEntropy', 'ResourcesMeanSize', 'ResourcesMinSize', 'ResourcesMaxSize', 'LoadConfigurationSize', 'VersionInformationSize', 'legitimate']\n",
      "\n",
      "We have 2 categorical features : ['Name', 'md5']\n"
     ]
    }
   ],
   "source": [
    "numeric_features = [feature for feature in df.columns if df[feature].dtype != 'O']\n",
    "categorical_features = [feature for feature in df.columns if df[feature].dtype == 'O']\n",
    "\n",
    "print('We have {} numerical features : {}'.format(len(numeric_features), numeric_features))\n",
    "print('\\nWe have {} categorical features : {}'.format(len(categorical_features), categorical_features))\n"
   ]
  },
  {
   "cell_type": "code",
   "execution_count": 11,
   "metadata": {},
   "outputs": [],
   "source": [
    "x =  df.drop(columns=['legitimate'],axis= 1)"
   ]
  },
  {
   "cell_type": "code",
   "execution_count": 12,
   "metadata": {},
   "outputs": [],
   "source": [
    "y  =df['legitimate']"
   ]
  },
  {
   "cell_type": "code",
   "execution_count": 13,
   "metadata": {},
   "outputs": [],
   "source": [
    "num_features = x.select_dtypes(exclude=\"object\").columns\n",
    "cat_features = x.select_dtypes(include=\"object\").columns"
   ]
  },
  {
   "attachments": {},
   "cell_type": "markdown",
   "metadata": {},
   "source": [
    "## Data Pre-Processing"
   ]
  },
  {
   "cell_type": "code",
   "execution_count": 14,
   "metadata": {},
   "outputs": [],
   "source": [
    "numeric_transformer = StandardScaler()\n",
    "oh_transformer = OneHotEncoder()"
   ]
  },
  {
   "cell_type": "code",
   "execution_count": 15,
   "metadata": {},
   "outputs": [],
   "source": [
    "preprocessor = ColumnTransformer(\n",
    "    [\n",
    "        (\"OneHotEncoder\", oh_transformer, cat_features),\n",
    "        (\"StandardScaler\", numeric_transformer, num_features),        \n",
    "    ]\n",
    ")"
   ]
  },
  {
   "cell_type": "code",
   "execution_count": 16,
   "metadata": {},
   "outputs": [],
   "source": [
    "X = preprocessor.fit_transform(x)"
   ]
  },
  {
   "cell_type": "code",
   "execution_count": 17,
   "metadata": {},
   "outputs": [
    {
     "data": {
      "text/plain": [
       "(10539, 21124)"
      ]
     },
     "execution_count": 17,
     "metadata": {},
     "output_type": "execute_result"
    }
   ],
   "source": [
    "X.shape"
   ]
  },
  {
   "attachments": {},
   "cell_type": "markdown",
   "metadata": {},
   "source": [
    "## Data splitting and modelling"
   ]
  },
  {
   "cell_type": "code",
   "execution_count": 18,
   "metadata": {},
   "outputs": [
    {
     "data": {
      "text/plain": [
       "((8115, 21124), (2424, 21124))"
      ]
     },
     "execution_count": 18,
     "metadata": {},
     "output_type": "execute_result"
    }
   ],
   "source": [
    "X_train, X_test, y_train, y_test = train_test_split(X,y,test_size=0.23,random_state=42)\n",
    "X_train.shape, X_test.shape"
   ]
  },
  {
   "cell_type": "code",
   "execution_count": 19,
   "metadata": {},
   "outputs": [],
   "source": [
    "def evaluate_model(true, predicted):\n",
    "    mae = mean_absolute_error(true, predicted)\n",
    "    mse = mean_squared_error(true, predicted)\n",
    "    rmse = np.sqrt(mean_squared_error(true, predicted))\n",
    "    r2_square = r2_score(true, predicted)\n",
    "    return mae, rmse, r2_square"
   ]
  },
  {
   "cell_type": "code",
   "execution_count": 20,
   "metadata": {},
   "outputs": [],
   "source": [
    "models = {\n",
    "    \"Linear Regression\": LinearRegression(),\n",
    "    \"Lasso\": Lasso(),\n",
    "    \"Ridge\": Ridge(),\n",
    "    \"K-Neighbors Regressor\": KNeighborsRegressor(),\n",
    "    \"Decision Tree\": DecisionTreeRegressor(),\n",
    "    \"Random Forest Regressor\": RandomForestRegressor(),\n",
    "    \"XGBRegressor\": XGBRegressor(), \n",
    "    \"CatBoosting Regressor\": CatBoostRegressor(verbose=False),\n",
    "    \"AdaBoost Regressor\": AdaBoostRegressor()\n",
    "}"
   ]
  },
  {
   "cell_type": "code",
   "execution_count": 21,
   "metadata": {},
   "outputs": [
    {
     "name": "stdout",
     "output_type": "stream",
     "text": [
      "Linear Regression\n",
      "Model performance for Training set\n",
      "- Root Mean Squared Error: 0.0001\n",
      "- Mean Absolute Error: 0.0001\n",
      "- R2 Score: 1.0000\n",
      "----------------------------------\n",
      "Model performance for Test set\n",
      "- Root Mean Squared Error: 0.8466\n",
      "- Mean Absolute Error: 0.1061\n",
      "- R2 Score: -2.2075\n",
      "===================================\n",
      "\n",
      "\n",
      "Lasso\n",
      "Model performance for Training set\n",
      "- Root Mean Squared Error: 0.4722\n",
      "- Mean Absolute Error: 0.4459\n",
      "- R2 Score: 0.0000\n",
      "----------------------------------\n",
      "Model performance for Test set\n",
      "- Root Mean Squared Error: 0.4727\n",
      "- Mean Absolute Error: 0.4464\n",
      "- R2 Score: -0.0000\n",
      "===================================\n",
      "\n",
      "\n",
      "Ridge\n",
      "Model performance for Training set\n",
      "- Root Mean Squared Error: 0.0632\n",
      "- Mean Absolute Error: 0.0302\n",
      "- R2 Score: 0.9821\n",
      "----------------------------------\n",
      "Model performance for Test set\n",
      "- Root Mean Squared Error: 0.6257\n",
      "- Mean Absolute Error: 0.1015\n",
      "- R2 Score: -0.7520\n",
      "===================================\n",
      "\n",
      "\n",
      "K-Neighbors Regressor\n",
      "Model performance for Training set\n",
      "- Root Mean Squared Error: 0.1160\n",
      "- Mean Absolute Error: 0.0268\n",
      "- R2 Score: 0.9397\n",
      "----------------------------------\n",
      "Model performance for Test set\n",
      "- Root Mean Squared Error: 0.1482\n",
      "- Mean Absolute Error: 0.0347\n",
      "- R2 Score: 0.9017\n",
      "===================================\n",
      "\n",
      "\n",
      "Decision Tree\n",
      "Model performance for Training set\n",
      "- Root Mean Squared Error: 0.0000\n",
      "- Mean Absolute Error: 0.0000\n",
      "- R2 Score: 1.0000\n",
      "----------------------------------\n",
      "Model performance for Test set\n",
      "- Root Mean Squared Error: 0.1520\n",
      "- Mean Absolute Error: 0.0231\n",
      "- R2 Score: 0.8966\n",
      "===================================\n",
      "\n",
      "\n",
      "Random Forest Regressor\n",
      "Model performance for Training set\n",
      "- Root Mean Squared Error: 0.0485\n",
      "- Mean Absolute Error: 0.0096\n",
      "- R2 Score: 0.9895\n",
      "----------------------------------\n",
      "Model performance for Test set\n",
      "- Root Mean Squared Error: 0.1282\n",
      "- Mean Absolute Error: 0.0237\n",
      "- R2 Score: 0.9265\n",
      "===================================\n",
      "\n",
      "\n",
      "XGBRegressor\n",
      "Model performance for Training set\n",
      "- Root Mean Squared Error: 0.0586\n",
      "- Mean Absolute Error: 0.0204\n",
      "- R2 Score: 0.9846\n",
      "----------------------------------\n",
      "Model performance for Test set\n",
      "- Root Mean Squared Error: 0.1264\n",
      "- Mean Absolute Error: 0.0324\n",
      "- R2 Score: 0.9285\n",
      "===================================\n",
      "\n",
      "\n",
      "CatBoosting Regressor\n",
      "Model performance for Training set\n",
      "- Root Mean Squared Error: 0.0897\n",
      "- Mean Absolute Error: 0.0351\n",
      "- R2 Score: 0.9639\n",
      "----------------------------------\n",
      "Model performance for Test set\n",
      "- Root Mean Squared Error: 0.1293\n",
      "- Mean Absolute Error: 0.0423\n",
      "- R2 Score: 0.9252\n",
      "===================================\n",
      "\n",
      "\n",
      "AdaBoost Regressor\n",
      "Model performance for Training set\n",
      "- Root Mean Squared Error: 0.2083\n",
      "- Mean Absolute Error: 0.1187\n",
      "- R2 Score: 0.8053\n",
      "----------------------------------\n",
      "Model performance for Test set\n",
      "- Root Mean Squared Error: 0.2119\n",
      "- Mean Absolute Error: 0.1199\n",
      "- R2 Score: 0.7990\n",
      "===================================\n",
      "\n",
      "\n"
     ]
    }
   ],
   "source": [
    "model_list = []\n",
    "r2_list =[]\n",
    "RMSE_list = []\n",
    "MAE_list = []\n",
    "\n",
    "for i in range(len(list(models))):\n",
    "    model = list(models.values())[i]\n",
    "    model.fit(X_train, y_train) # Train model\n",
    "\n",
    "    # Make predictions\n",
    "    y_train_pred = model.predict(X_train)\n",
    "    y_test_pred = model.predict(X_test)\n",
    "    \n",
    "    # Evaluate Train and Test dataset\n",
    "    model_train_mae , model_train_rmse, model_train_r2 = evaluate_model(y_train, y_train_pred)\n",
    "\n",
    "    model_test_mae , model_test_rmse, model_test_r2 = evaluate_model(y_test, y_test_pred)\n",
    "\n",
    "    \n",
    "    print(list(models.keys())[i])\n",
    "    model_list.append(list(models.keys())[i])\n",
    "    \n",
    "    print('Model performance for Training set')\n",
    "    print(\"- Root Mean Squared Error: {:.4f}\".format(model_train_rmse))\n",
    "    print(\"- Mean Absolute Error: {:.4f}\".format(model_train_mae))\n",
    "    print(\"- R2 Score: {:.4f}\".format(model_train_r2))\n",
    "\n",
    "    print('----------------------------------')\n",
    "    \n",
    "    print('Model performance for Test set')\n",
    "    print(\"- Root Mean Squared Error: {:.4f}\".format(model_test_rmse))\n",
    "    print(\"- Mean Absolute Error: {:.4f}\".format(model_test_mae))\n",
    "    print(\"- R2 Score: {:.4f}\".format(model_test_r2))\n",
    "    \n",
    "    # appending the r2 score, mean absolute erroor and root mean squared error\n",
    "    # RMSE_list.append(model_test_rmse)\n",
    "    # MAE_list.append(model_test_mae)\n",
    "    r2_list.append(model_test_r2)\n",
    "    \n",
    "    \n",
    "    print('='*35)\n",
    "    print('\\n')"
   ]
  },
  {
   "cell_type": "code",
   "execution_count": 22,
   "metadata": {},
   "outputs": [
    {
     "data": {
      "text/html": [
       "<div>\n",
       "<style scoped>\n",
       "    .dataframe tbody tr th:only-of-type {\n",
       "        vertical-align: middle;\n",
       "    }\n",
       "\n",
       "    .dataframe tbody tr th {\n",
       "        vertical-align: top;\n",
       "    }\n",
       "\n",
       "    .dataframe thead th {\n",
       "        text-align: right;\n",
       "    }\n",
       "</style>\n",
       "<table border=\"1\" class=\"dataframe\">\n",
       "  <thead>\n",
       "    <tr style=\"text-align: right;\">\n",
       "      <th></th>\n",
       "      <th>Model Name</th>\n",
       "      <th>R2_Score</th>\n",
       "    </tr>\n",
       "  </thead>\n",
       "  <tbody>\n",
       "    <tr>\n",
       "      <th>6</th>\n",
       "      <td>XGBRegressor</td>\n",
       "      <td>0.928526</td>\n",
       "    </tr>\n",
       "    <tr>\n",
       "      <th>5</th>\n",
       "      <td>Random Forest Regressor</td>\n",
       "      <td>0.926487</td>\n",
       "    </tr>\n",
       "    <tr>\n",
       "      <th>7</th>\n",
       "      <td>CatBoosting Regressor</td>\n",
       "      <td>0.925188</td>\n",
       "    </tr>\n",
       "    <tr>\n",
       "      <th>3</th>\n",
       "      <td>K-Neighbors Regressor</td>\n",
       "      <td>0.901705</td>\n",
       "    </tr>\n",
       "    <tr>\n",
       "      <th>4</th>\n",
       "      <td>Decision Tree</td>\n",
       "      <td>0.896609</td>\n",
       "    </tr>\n",
       "    <tr>\n",
       "      <th>8</th>\n",
       "      <td>AdaBoost Regressor</td>\n",
       "      <td>0.798958</td>\n",
       "    </tr>\n",
       "    <tr>\n",
       "      <th>1</th>\n",
       "      <td>Lasso</td>\n",
       "      <td>-0.000010</td>\n",
       "    </tr>\n",
       "    <tr>\n",
       "      <th>2</th>\n",
       "      <td>Ridge</td>\n",
       "      <td>-0.751956</td>\n",
       "    </tr>\n",
       "    <tr>\n",
       "      <th>0</th>\n",
       "      <td>Linear Regression</td>\n",
       "      <td>-2.207470</td>\n",
       "    </tr>\n",
       "  </tbody>\n",
       "</table>\n",
       "</div>"
      ],
      "text/plain": [
       "                Model Name  R2_Score\n",
       "6             XGBRegressor  0.928526\n",
       "5  Random Forest Regressor  0.926487\n",
       "7    CatBoosting Regressor  0.925188\n",
       "3    K-Neighbors Regressor  0.901705\n",
       "4            Decision Tree  0.896609\n",
       "8       AdaBoost Regressor  0.798958\n",
       "1                    Lasso -0.000010\n",
       "2                    Ridge -0.751956\n",
       "0        Linear Regression -2.207470"
      ]
     },
     "execution_count": 22,
     "metadata": {},
     "output_type": "execute_result"
    }
   ],
   "source": [
    "pd.DataFrame(list(zip(model_list, r2_list)), columns=['Model Name', 'R2_Score']).sort_values(by=[\"R2_Score\"],ascending=False)\n"
   ]
  },
  {
   "cell_type": "code",
   "execution_count": 23,
   "metadata": {},
   "outputs": [
    {
     "name": "stdout",
     "output_type": "stream",
     "text": [
      " Accuracy of the model is 92.85\n"
     ]
    }
   ],
   "source": [
    "XGB_model = XGBRegressor()\n",
    "XGB_model = XGB_model.fit(X_train,y_train)\n",
    "y_pred = XGB_model.predict(X_test)\n",
    "score  = r2_score(y_test,y_pred)*100\n",
    "\n",
    "print(\" Accuracy of the model is %.2f\" %score)\n"
   ]
  },
  {
   "attachments": {},
   "cell_type": "markdown",
   "metadata": {},
   "source": [
    "## Visualization "
   ]
  },
  {
   "cell_type": "code",
   "execution_count": 24,
   "metadata": {},
   "outputs": [
    {
     "data": {
      "text/plain": [
       "Text(0, 0.5, 'Predicted')"
      ]
     },
     "execution_count": 24,
     "metadata": {},
     "output_type": "execute_result"
    },
    {
     "data": {
      "image/png": "[encoded data removed]",
      "text/plain": [
       "<Figure size 640x480 with 1 Axes>"
      ]
     },
     "metadata": {},
     "output_type": "display_data"
    }
   ],
   "source": [
    "plt.scatter(y_test,y_pred)\n",
    "plt.xlabel('Actual')\n",
    "plt.ylabel('Predicted')"
   ]
  },
  {
   "attachments": {},
   "cell_type": "markdown",
   "metadata": {},
   "source": [
    "## HyperParameter Tuning"
   ]
  },
  {
   "cell_type": "code",
   "execution_count": 25,
   "metadata": {},
   "outputs": [],
   "source": [
    "model = RandomForestRegressor(n_estimators=200,\n",
    "                               criterion='absolute_error',\n",
    "                               max_features='sqrt',\n",
    "                               random_state=33,\n",
    "                               min_samples_leaf=20\n",
    "                               ).fit(X_train,y_train)\n",
    "\n",
    "predictions = model.predict(X_test)\n",
    "\n",
    "# print(confusion_matrix(y_test,predictions))\n",
    "# print(accuracy_score(y_test,predictions))\n",
    "# print(classification_report(y_test,predictions))"
   ]
  },
  {
   "cell_type": "code",
   "execution_count": 26,
   "metadata": {},
   "outputs": [],
   "source": [
    "model_test_mae , model_test_rmse, model_test_r2 = evaluate_model(y_test, predictions)"
   ]
  },
  {
   "cell_type": "code",
   "execution_count": 27,
   "metadata": {},
   "outputs": [
    {
     "name": "stdout",
     "output_type": "stream",
     "text": [
      "- Root Mean Squared Error: 0.4777\n",
      "- Mean Absolute Error: 0.2986\n",
      "- R2 Score: -0.0213\n"
     ]
    }
   ],
   "source": [
    "print(\"- Root Mean Squared Error: {:.4f}\".format(model_test_rmse))\n",
    "print(\"- Mean Absolute Error: {:.4f}\".format(model_test_mae))\n",
    "print(\"- R2 Score: {:.4f}\".format(model_test_r2))"
   ]
  },
  {
   "cell_type": "code",
   "execution_count": 28,
   "metadata": {},
   "outputs": [],
   "source": [
    "n_estimators = [int(x) for x in np.linspace(start=200,stop=2000,num=10)]\n",
    "criterion = ['squared_error', 'absolute_error', 'friedman_mse', 'poisson']\n",
    "max_features = ['sqrt','log2']\n",
    "max_depth = [int(x)for x in np.linspace(10,1000,10)]\n",
    "min_samples_split = [1,3,5,7,9,11]\n",
    "min_samples_leaf = [3,6,9,12,15,18]\n",
    "\n",
    "random_grid = {'n_estimators': n_estimators,\n",
    "               'criterion':criterion,\n",
    "               'max_features': max_features,\n",
    "               'max_depth': max_depth,\n",
    "               'min_samples_split': min_samples_split,\n",
    "               'min_samples_leaf': min_samples_leaf}"
   ]
  },
  {
   "cell_type": "code",
   "execution_count": 29,
   "metadata": {},
   "outputs": [
    {
     "data": {
      "text/plain": [
       "{'n_estimators': [200, 400, 600, 800, 1000, 1200, 1400, 1600, 1800, 2000],\n",
       " 'criterion': ['squared_error', 'absolute_error', 'friedman_mse', 'poisson'],\n",
       " 'max_features': ['sqrt', 'log2'],\n",
       " 'max_depth': [10, 120, 230, 340, 450, 560, 670, 780, 890, 1000],\n",
       " 'min_samples_split': [1, 3, 5, 7, 9, 11],\n",
       " 'min_samples_leaf': [3, 6, 9, 12, 15, 18]}"
      ]
     },
     "execution_count": 29,
     "metadata": {},
     "output_type": "execute_result"
    }
   ],
   "source": [
    "random_grid"
   ]
  },
  {
   "cell_type": "code",
   "execution_count": 30,
   "metadata": {},
   "outputs": [
    {
     "name": "stdout",
     "output_type": "stream",
     "text": [
      "Fitting 3 folds for each of 100 candidates, totalling 300 fits\n"
     ]
    },
    {
     "name": "stderr",
     "output_type": "stream",
     "text": [
      "d:\\Final_Project\\malware\\lib\\site-packages\\sklearn\\model_selection\\_validation.py:378: FitFailedWarning: \n",
      "54 fits failed out of a total of 300.\n",
      "The score on these train-test partitions for these parameters will be set to nan.\n",
      "If these failures are not expected, you can try to debug them by setting error_score='raise'.\n",
      "\n",
      "Below are more details about the failures:\n",
      "--------------------------------------------------------------------------------\n",
      "54 fits failed with the following error:\n",
      "Traceback (most recent call last):\n",
      "  File \"d:\\Final_Project\\malware\\lib\\site-packages\\sklearn\\model_selection\\_validation.py\", line 686, in _fit_and_score\n",
      "    estimator.fit(X_train, y_train, **fit_params)\n",
      "  File \"d:\\Final_Project\\malware\\lib\\site-packages\\sklearn\\ensemble\\_forest.py\", line 340, in fit\n",
      "    self._validate_params()\n",
      "  File \"d:\\Final_Project\\malware\\lib\\site-packages\\sklearn\\base.py\", line 600, in _validate_params\n",
      "    validate_parameter_constraints(\n",
      "  File \"d:\\Final_Project\\malware\\lib\\site-packages\\sklearn\\utils\\_param_validation.py\", line 97, in validate_parameter_constraints\n",
      "    raise InvalidParameterError(\n",
      "sklearn.utils._param_validation.InvalidParameterError: The 'min_samples_split' parameter of RandomForestRegressor must be an int in the range [2, inf) or a float in the range (0.0, 1.0]. Got 1 instead.\n",
      "\n",
      "  warnings.warn(some_fits_failed_message, FitFailedWarning)\n",
      "d:\\Final_Project\\malware\\lib\\site-packages\\sklearn\\model_selection\\_search.py:952: UserWarning: One or more of the test scores are non-finite: [        nan  0.20397744 -0.4605313          nan -0.46234381  0.22344644\n",
      "  0.0183926   0.22990767 -0.48247745         nan  0.01419666 -0.14202166\n",
      " -0.46235385         nan  0.01757519 -0.08804615 -0.10141135         nan\n",
      "  0.21510712 -0.46166283  0.01876427  0.02237831 -0.46956092 -0.102613\n",
      "         nan         nan  0.19813096  0.01572426  0.20977626  0.22218192\n",
      "  0.21871119  0.02547569  0.02262866  0.2190792          nan  0.02108915\n",
      "         nan  0.02175641 -0.11378115 -0.47245076         nan  0.02483003\n",
      " -0.09864376  0.21476107 -0.47213929 -0.09253698  0.02457348  0.21738154\n",
      "         nan  0.22300781         nan  0.21720513  0.02042978         nan\n",
      "  0.21668429  0.01887     0.21246043  0.21444444 -0.10223273  0.02180378\n",
      "  0.22454366  0.22654202  0.21856909 -0.10698746  0.21634156  0.22081285\n",
      " -0.09883788         nan  0.01834713  0.01376997  0.02011199  0.21526919\n",
      "  0.2116767   0.0217354  -0.45238809  0.01772704  0.22054201 -0.09561573\n",
      " -0.14123002  0.02319708         nan         nan  0.02089995         nan\n",
      "         nan  0.02065073  0.22364061 -0.47180479  0.01767512  0.20872584\n",
      "  0.21340359  0.02095661  0.22961872  0.01275188 -0.46219086  0.21313529\n",
      "  0.21162331  0.21826272  0.02277126 -0.46900063]\n",
      "  warnings.warn(\n"
     ]
    },
    {
     "data": {
      "text/html": [
       "<style>#sk-container-id-1 {color: black;background-color: white;}#sk-container-id-1 pre{padding: 0;}#sk-container-id-1 div.sk-toggleable {background-color: white;}#sk-container-id-1 label.sk-toggleable__label {cursor: pointer;display: block;width: 100%;margin-bottom: 0;padding: 0.3em;box-sizing: border-box;text-align: center;}#sk-container-id-1 label.sk-toggleable__label-arrow:before {content: \"▸\";float: left;margin-right: 0.25em;color: #696969;}#sk-container-id-1 label.sk-toggleable__label-arrow:hover:before {color: black;}#sk-container-id-1 div.sk-estimator:hover label.sk-toggleable__label-arrow:before {color: black;}#sk-container-id-1 div.sk-toggleable__content {max-height: 0;max-width: 0;overflow: hidden;text-align: left;background-color: #f0f8ff;}#sk-container-id-1 div.sk-toggleable__content pre {margin: 0.2em;color: black;border-radius: 0.25em;background-color: #f0f8ff;}#sk-container-id-1 input.sk-toggleable__control:checked~div.sk-toggleable__content {max-height: 200px;max-width: 100%;overflow: auto;}#sk-container-id-1 input.sk-toggleable__control:checked~label.sk-toggleable__label-arrow:before {content: \"▾\";}#sk-container-id-1 div.sk-estimator input.sk-toggleable__control:checked~label.sk-toggleable__label {background-color: #d4ebff;}#sk-container-id-1 div.sk-label input.sk-toggleable__control:checked~label.sk-toggleable__label {background-color: #d4ebff;}#sk-container-id-1 input.sk-hidden--visually {border: 0;clip: rect(1px 1px 1px 1px);clip: rect(1px, 1px, 1px, 1px);height: 1px;margin: -1px;overflow: hidden;padding: 0;position: absolute;width: 1px;}#sk-container-id-1 div.sk-estimator {font-family: monospace;background-color: #f0f8ff;border: 1px dotted black;border-radius: 0.25em;box-sizing: border-box;margin-bottom: 0.5em;}#sk-container-id-1 div.sk-estimator:hover {background-color: #d4ebff;}#sk-container-id-1 div.sk-parallel-item::after {content: \"\";width: 100%;border-bottom: 1px solid gray;flex-grow: 1;}#sk-container-id-1 div.sk-label:hover label.sk-toggleable__label {background-color: #d4ebff;}#sk-container-id-1 div.sk-serial::before {content: \"\";position: absolute;border-left: 1px solid gray;box-sizing: border-box;top: 0;bottom: 0;left: 50%;z-index: 0;}#sk-container-id-1 div.sk-serial {display: flex;flex-direction: column;align-items: center;background-color: white;padding-right: 0.2em;padding-left: 0.2em;position: relative;}#sk-container-id-1 div.sk-item {position: relative;z-index: 1;}#sk-container-id-1 div.sk-parallel {display: flex;align-items: stretch;justify-content: center;background-color: white;position: relative;}#sk-container-id-1 div.sk-item::before, #sk-container-id-1 div.sk-parallel-item::before {content: \"\";position: absolute;border-left: 1px solid gray;box-sizing: border-box;top: 0;bottom: 0;left: 50%;z-index: -1;}#sk-container-id-1 div.sk-parallel-item {display: flex;flex-direction: column;z-index: 1;position: relative;background-color: white;}#sk-container-id-1 div.sk-parallel-item:first-child::after {align-self: flex-end;width: 50%;}#sk-container-id-1 div.sk-parallel-item:last-child::after {align-self: flex-start;width: 50%;}#sk-container-id-1 div.sk-parallel-item:only-child::after {width: 0;}#sk-container-id-1 div.sk-dashed-wrapped {border: 1px dashed gray;margin: 0 0.4em 0.5em 0.4em;box-sizing: border-box;padding-bottom: 0.4em;background-color: white;}#sk-container-id-1 div.sk-label label {font-family: monospace;font-weight: bold;display: inline-block;line-height: 1.2em;}#sk-container-id-1 div.sk-label-container {text-align: center;}#sk-container-id-1 div.sk-container {/* jupyter's `normalize.less` sets `[hidden] { display: none; }` but bootstrap.min.css set `[hidden] { display: none !important; }` so we also need the `!important` here to be able to override the default hidden behavior on the sphinx rendered scikit-learn.org. See: https://github.com/scikit-learn/scikit-learn/issues/21755 */display: inline-block !important;position: relative;}#sk-container-id-1 div.sk-text-repr-fallback {display: none;}</style><div id=\"sk-container-id-1\" class=\"sk-top-container\"><div class=\"sk-text-repr-fallback\"><pre>RandomizedSearchCV(cv=3, estimator=RandomForestRegressor(), n_iter=100,\n",
       "                   n_jobs=-1,\n",
       "                   param_distributions={&#x27;criterion&#x27;: [&#x27;squared_error&#x27;,\n",
       "                                                      &#x27;absolute_error&#x27;,\n",
       "                                                      &#x27;friedman_mse&#x27;,\n",
       "                                                      &#x27;poisson&#x27;],\n",
       "                                        &#x27;max_depth&#x27;: [10, 120, 230, 340, 450,\n",
       "                                                      560, 670, 780, 890,\n",
       "                                                      1000],\n",
       "                                        &#x27;max_features&#x27;: [&#x27;sqrt&#x27;, &#x27;log2&#x27;],\n",
       "                                        &#x27;min_samples_leaf&#x27;: [3, 6, 9, 12, 15,\n",
       "                                                             18],\n",
       "                                        &#x27;min_samples_split&#x27;: [1, 3, 5, 7, 9,\n",
       "                                                              11],\n",
       "                                        &#x27;n_estimators&#x27;: [200, 400, 600, 800,\n",
       "                                                         1000, 1200, 1400, 1600,\n",
       "                                                         1800, 2000]},\n",
       "                   random_state=100, verbose=2)</pre><b>In a Jupyter environment, please rerun this cell to show the HTML representation or trust the notebook. <br />On GitHub, the HTML representation is unable to render, please try loading this page with nbviewer.org.</b></div><div class=\"sk-container\" hidden><div class=\"sk-item sk-dashed-wrapped\"><div class=\"sk-label-container\"><div class=\"sk-label sk-toggleable\"><input class=\"sk-toggleable__control sk-hidden--visually\" id=\"sk-estimator-id-1\" type=\"checkbox\" ><label for=\"sk-estimator-id-1\" class=\"sk-toggleable__label sk-toggleable__label-arrow\">RandomizedSearchCV</label><div class=\"sk-toggleable__content\"><pre>RandomizedSearchCV(cv=3, estimator=RandomForestRegressor(), n_iter=100,\n",
       "                   n_jobs=-1,\n",
       "                   param_distributions={&#x27;criterion&#x27;: [&#x27;squared_error&#x27;,\n",
       "                                                      &#x27;absolute_error&#x27;,\n",
       "                                                      &#x27;friedman_mse&#x27;,\n",
       "                                                      &#x27;poisson&#x27;],\n",
       "                                        &#x27;max_depth&#x27;: [10, 120, 230, 340, 450,\n",
       "                                                      560, 670, 780, 890,\n",
       "                                                      1000],\n",
       "                                        &#x27;max_features&#x27;: [&#x27;sqrt&#x27;, &#x27;log2&#x27;],\n",
       "                                        &#x27;min_samples_leaf&#x27;: [3, 6, 9, 12, 15,\n",
       "                                                             18],\n",
       "                                        &#x27;min_samples_split&#x27;: [1, 3, 5, 7, 9,\n",
       "                                                              11],\n",
       "                                        &#x27;n_estimators&#x27;: [200, 400, 600, 800,\n",
       "                                                         1000, 1200, 1400, 1600,\n",
       "                                                         1800, 2000]},\n",
       "                   random_state=100, verbose=2)</pre></div></div></div><div class=\"sk-parallel\"><div class=\"sk-parallel-item\"><div class=\"sk-item\"><div class=\"sk-label-container\"><div class=\"sk-label sk-toggleable\"><input class=\"sk-toggleable__control sk-hidden--visually\" id=\"sk-estimator-id-2\" type=\"checkbox\" ><label for=\"sk-estimator-id-2\" class=\"sk-toggleable__label sk-toggleable__label-arrow\">estimator: RandomForestRegressor</label><div class=\"sk-toggleable__content\"><pre>RandomForestRegressor()</pre></div></div></div><div class=\"sk-serial\"><div class=\"sk-item\"><div class=\"sk-estimator sk-toggleable\"><input class=\"sk-toggleable__control sk-hidden--visually\" id=\"sk-estimator-id-3\" type=\"checkbox\" ><label for=\"sk-estimator-id-3\" class=\"sk-toggleable__label sk-toggleable__label-arrow\">RandomForestRegressor</label><div class=\"sk-toggleable__content\"><pre>RandomForestRegressor()</pre></div></div></div></div></div></div></div></div></div></div>"
      ],
      "text/plain": [
       "RandomizedSearchCV(cv=3, estimator=RandomForestRegressor(), n_iter=100,\n",
       "                   n_jobs=-1,\n",
       "                   param_distributions={'criterion': ['squared_error',\n",
       "                                                      'absolute_error',\n",
       "                                                      'friedman_mse',\n",
       "                                                      'poisson'],\n",
       "                                        'max_depth': [10, 120, 230, 340, 450,\n",
       "                                                      560, 670, 780, 890,\n",
       "                                                      1000],\n",
       "                                        'max_features': ['sqrt', 'log2'],\n",
       "                                        'min_samples_leaf': [3, 6, 9, 12, 15,\n",
       "                                                             18],\n",
       "                                        'min_samples_split': [1, 3, 5, 7, 9,\n",
       "                                                              11],\n",
       "                                        'n_estimators': [200, 400, 600, 800,\n",
       "                                                         1000, 1200, 1400, 1600,\n",
       "                                                         1800, 2000]},\n",
       "                   random_state=100, verbose=2)"
      ]
     },
     "execution_count": 30,
     "metadata": {},
     "output_type": "execute_result"
    }
   ],
   "source": [
    "rf = RandomForestRegressor()\n",
    "\n",
    "rf_randomcv = RandomizedSearchCV(estimator=rf,\n",
    "                                 param_distributions=random_grid,\n",
    "                                 n_iter=100,\n",
    "                                 cv=3,\n",
    "                                 verbose=2,\n",
    "                                 random_state=100,\n",
    "                                 n_jobs=-1)\n",
    "\n",
    "rf_randomcv.fit(X_train,y_train)"
   ]
  },
  {
   "cell_type": "code",
   "execution_count": 31,
   "metadata": {},
   "outputs": [
    {
     "data": {
      "text/plain": [
       "{'n_estimators': 1000,\n",
       " 'min_samples_split': 11,\n",
       " 'min_samples_leaf': 9,\n",
       " 'max_features': 'sqrt',\n",
       " 'max_depth': 340,\n",
       " 'criterion': 'friedman_mse'}"
      ]
     },
     "execution_count": 31,
     "metadata": {},
     "output_type": "execute_result"
    }
   ],
   "source": [
    "rf_randomcv.best_params_"
   ]
  },
  {
   "cell_type": "code",
   "execution_count": 32,
   "metadata": {},
   "outputs": [],
   "source": [
    "best_rg = rf_randomcv.best_estimator_"
   ]
  },
  {
   "cell_type": "code",
   "execution_count": 33,
   "metadata": {},
   "outputs": [],
   "source": [
    "pred = best_rg.predict(X_test)"
   ]
  },
  {
   "cell_type": "code",
   "execution_count": 34,
   "metadata": {},
   "outputs": [],
   "source": [
    "model_test_ma , model_test_rms, model_test_r = evaluate_model(y_test, pred)"
   ]
  },
  {
   "cell_type": "code",
   "execution_count": 35,
   "metadata": {},
   "outputs": [
    {
     "name": "stdout",
     "output_type": "stream",
     "text": [
      "- Root Mean Squared Error: 0.3923\n",
      "- Mean Absolute Error: 0.4158\n",
      "- R2 Score: 0.2261\n"
     ]
    }
   ],
   "source": [
    "print(\"- Root Mean Squared Error: {:.4f}\".format(model_test_ma))\n",
    "print(\"- Mean Absolute Error: {:.4f}\".format(model_test_rms))\n",
    "print(\"- R2 Score: {:.4f}\".format(model_test_r))"
   ]
  },
  {
   "cell_type": "code",
   "execution_count": 36,
   "metadata": {},
   "outputs": [],
   "source": [
    "param_grid = {\n",
    "    'criterion':[rf_randomcv.best_params_['criterion']],\n",
    "    'max_depth':[rf_randomcv.best_params_['max_depth']],\n",
    "    'max_features':[rf_randomcv.best_params_['max_features']],\n",
    "    'min_samples_leaf':[rf_randomcv.best_params_['min_samples_leaf']-4,\n",
    "                        rf_randomcv.best_params_['min_samples_leaf']-2,\n",
    "                        rf_randomcv.best_params_['min_samples_leaf']],\n",
    "    'min_samples_split':[rf_randomcv.best_params_['min_samples_split']-4,\n",
    "                         rf_randomcv.best_params_['min_samples_split']-3,\n",
    "                         rf_randomcv.best_params_['min_samples_split']-2,\n",
    "                         rf_randomcv.best_params_['min_samples_split']-1,\n",
    "                         rf_randomcv.best_params_['min_samples_split']],\n",
    "    'n_estimators':[rf_randomcv.best_params_['n_estimators']-200,\n",
    "                    rf_randomcv.best_params_['n_estimators']-100,\n",
    "                    rf_randomcv.best_params_['n_estimators'],\n",
    "                    rf_randomcv.best_params_['n_estimators']+100,\n",
    "                    rf_randomcv.best_params_['n_estimators']+200]\n",
    "}"
   ]
  },
  {
   "cell_type": "code",
   "execution_count": 37,
   "metadata": {},
   "outputs": [
    {
     "data": {
      "text/plain": [
       "{'criterion': ['friedman_mse'],\n",
       " 'max_depth': [340],\n",
       " 'max_features': ['sqrt'],\n",
       " 'min_samples_leaf': [5, 7, 9],\n",
       " 'min_samples_split': [7, 8, 9, 10, 11],\n",
       " 'n_estimators': [800, 900, 1000, 1100, 1200]}"
      ]
     },
     "execution_count": 37,
     "metadata": {},
     "output_type": "execute_result"
    }
   ],
   "source": [
    "param_grid"
   ]
  },
  {
   "cell_type": "code",
   "execution_count": 38,
   "metadata": {},
   "outputs": [
    {
     "name": "stdout",
     "output_type": "stream",
     "text": [
      "Fitting 10 folds for each of 75 candidates, totalling 750 fits\n"
     ]
    }
   ],
   "source": [
    "rf = RandomForestRegressor()\n",
    "grid_search = GridSearchCV(estimator=rf,\n",
    "                           param_grid=param_grid,\n",
    "                           cv=10,\n",
    "                           n_jobs=-1,\n",
    "                           verbose=2)\n",
    "\n",
    "grid_search.fit(X_train,y_train)"
   ]
  },
  {
   "cell_type": "code",
   "execution_count": null,
   "metadata": {},
   "outputs": [],
   "source": [
    "best_grid = grid_search.best_estimator_"
   ]
  },
  {
   "cell_type": "code",
   "execution_count": null,
   "metadata": {},
   "outputs": [],
   "source": [
    "best_pred = best_grid.predict(X_test)\n",
    "model_test_ma , model_test_rms, model_test_r = evaluate_model(y_test, best_pred)"
   ]
  },
  {
   "cell_type": "code",
   "execution_count": null,
   "metadata": {},
   "outputs": [
    {
     "name": "stdout",
     "output_type": "stream",
     "text": [
      "- Root Mean Squared Error: 0.4041\n",
      "- Mean Absolute Error: 0.4283\n",
      "- R2 Score: 0.1792\n"
     ]
    }
   ],
   "source": [
    "print(\"- Root Mean Squared Error: {:.4f}\".format(model_test_ma))\n",
    "print(\"- Mean Absolute Error: {:.4f}\".format(model_test_rms))\n",
    "print(\"- R2 Score: {:.4f}\".format(model_test_r))"
   ]
  },
  {
   "cell_type": "code",
   "execution_count": null,
   "metadata": {},
   "outputs": [
    {
     "data": {
      "text/plain": [
       "{'criterion': 'poisson',\n",
       " 'max_depth': 230,\n",
       " 'max_features': 'sqrt',\n",
       " 'min_samples_leaf': 11,\n",
       " 'min_samples_split': 6,\n",
       " 'n_estimators': 100}"
      ]
     },
     "execution_count": 99,
     "metadata": {},
     "output_type": "execute_result"
    }
   ],
   "source": [
    "grid_search.best_params_"
   ]
  },
  {
   "attachments": {},
   "cell_type": "markdown",
   "metadata": {},
   "source": [
    "## Deep learning "
   ]
  },
  {
   "cell_type": "code",
   "execution_count": null,
   "metadata": {},
   "outputs": [
    {
     "data": {
      "text/html": [
       "<div>\n",
       "<style scoped>\n",
       "    .dataframe tbody tr th:only-of-type {\n",
       "        vertical-align: middle;\n",
       "    }\n",
       "\n",
       "    .dataframe tbody tr th {\n",
       "        vertical-align: top;\n",
       "    }\n",
       "\n",
       "    .dataframe thead th {\n",
       "        text-align: right;\n",
       "    }\n",
       "</style>\n",
       "<table border=\"1\" class=\"dataframe\">\n",
       "  <thead>\n",
       "    <tr style=\"text-align: right;\">\n",
       "      <th></th>\n",
       "      <th>Name</th>\n",
       "      <th>md5</th>\n",
       "      <th>Machine</th>\n",
       "      <th>SizeOfOptionalHeader</th>\n",
       "      <th>Characteristics</th>\n",
       "      <th>MajorLinkerVersion</th>\n",
       "      <th>MinorLinkerVersion</th>\n",
       "      <th>SizeOfCode</th>\n",
       "      <th>SizeOfInitializedData</th>\n",
       "      <th>SizeOfUninitializedData</th>\n",
       "      <th>...</th>\n",
       "      <th>ResourcesNb</th>\n",
       "      <th>ResourcesMeanEntropy</th>\n",
       "      <th>ResourcesMinEntropy</th>\n",
       "      <th>ResourcesMaxEntropy</th>\n",
       "      <th>ResourcesMeanSize</th>\n",
       "      <th>ResourcesMinSize</th>\n",
       "      <th>ResourcesMaxSize</th>\n",
       "      <th>LoadConfigurationSize</th>\n",
       "      <th>VersionInformationSize</th>\n",
       "      <th>legitimate</th>\n",
       "    </tr>\n",
       "  </thead>\n",
       "  <tbody>\n",
       "    <tr>\n",
       "      <th>0</th>\n",
       "      <td>Windows.Internal.Shell.Broker.dll</td>\n",
       "      <td>09e83f1d1c99ad33009dbe6fb129c2d9</td>\n",
       "      <td>34404</td>\n",
       "      <td>240</td>\n",
       "      <td>8226</td>\n",
       "      <td>14</td>\n",
       "      <td>12</td>\n",
       "      <td>779776</td>\n",
       "      <td>253952</td>\n",
       "      <td>0</td>\n",
       "      <td>...</td>\n",
       "      <td>2</td>\n",
       "      <td>3.072050</td>\n",
       "      <td>2.706833</td>\n",
       "      <td>3.437268</td>\n",
       "      <td>604.000000</td>\n",
       "      <td>200</td>\n",
       "      <td>1008</td>\n",
       "      <td>256</td>\n",
       "      <td>16</td>\n",
       "      <td>1</td>\n",
       "    </tr>\n",
       "    <tr>\n",
       "      <th>1</th>\n",
       "      <td>hidserv.dll</td>\n",
       "      <td>3030f19c6a73367d6d5eedd157f5d01a</td>\n",
       "      <td>34404</td>\n",
       "      <td>240</td>\n",
       "      <td>8226</td>\n",
       "      <td>14</td>\n",
       "      <td>12</td>\n",
       "      <td>21504</td>\n",
       "      <td>13312</td>\n",
       "      <td>0</td>\n",
       "      <td>...</td>\n",
       "      <td>3</td>\n",
       "      <td>3.056204</td>\n",
       "      <td>2.709457</td>\n",
       "      <td>3.465499</td>\n",
       "      <td>515.333333</td>\n",
       "      <td>200</td>\n",
       "      <td>932</td>\n",
       "      <td>256</td>\n",
       "      <td>16</td>\n",
       "      <td>1</td>\n",
       "    </tr>\n",
       "    <tr>\n",
       "      <th>2</th>\n",
       "      <td>DmApiSetExtImplDesktop.dll</td>\n",
       "      <td>8271846f8f5dd1cfddaa957b1b9da1a2</td>\n",
       "      <td>34404</td>\n",
       "      <td>240</td>\n",
       "      <td>8226</td>\n",
       "      <td>14</td>\n",
       "      <td>12</td>\n",
       "      <td>33792</td>\n",
       "      <td>27648</td>\n",
       "      <td>0</td>\n",
       "      <td>...</td>\n",
       "      <td>1</td>\n",
       "      <td>3.466474</td>\n",
       "      <td>3.466474</td>\n",
       "      <td>3.466474</td>\n",
       "      <td>980.000000</td>\n",
       "      <td>980</td>\n",
       "      <td>980</td>\n",
       "      <td>256</td>\n",
       "      <td>16</td>\n",
       "      <td>1</td>\n",
       "    </tr>\n",
       "    <tr>\n",
       "      <th>3</th>\n",
       "      <td>FSResizerSetup27.exe</td>\n",
       "      <td>5802b4215566bb9593a736e945a28e99</td>\n",
       "      <td>332</td>\n",
       "      <td>224</td>\n",
       "      <td>271</td>\n",
       "      <td>6</td>\n",
       "      <td>0</td>\n",
       "      <td>23552</td>\n",
       "      <td>164864</td>\n",
       "      <td>1024</td>\n",
       "      <td>...</td>\n",
       "      <td>9</td>\n",
       "      <td>3.032143</td>\n",
       "      <td>1.971335</td>\n",
       "      <td>5.102472</td>\n",
       "      <td>363.444444</td>\n",
       "      <td>34</td>\n",
       "      <td>744</td>\n",
       "      <td>0</td>\n",
       "      <td>0</td>\n",
       "      <td>1</td>\n",
       "    </tr>\n",
       "    <tr>\n",
       "      <th>4</th>\n",
       "      <td>asc-setup.exe</td>\n",
       "      <td>8cb1fb45489d065720285deeccbacd98</td>\n",
       "      <td>332</td>\n",
       "      <td>224</td>\n",
       "      <td>33167</td>\n",
       "      <td>2</td>\n",
       "      <td>25</td>\n",
       "      <td>87040</td>\n",
       "      <td>71680</td>\n",
       "      <td>0</td>\n",
       "      <td>...</td>\n",
       "      <td>19</td>\n",
       "      <td>4.402265</td>\n",
       "      <td>2.699131</td>\n",
       "      <td>6.600332</td>\n",
       "      <td>3275.473684</td>\n",
       "      <td>16</td>\n",
       "      <td>33512</td>\n",
       "      <td>0</td>\n",
       "      <td>15</td>\n",
       "      <td>1</td>\n",
       "    </tr>\n",
       "  </tbody>\n",
       "</table>\n",
       "<p>5 rows × 57 columns</p>\n",
       "</div>"
      ],
      "text/plain": [
       "                                Name                               md5   \n",
       "0  Windows.Internal.Shell.Broker.dll  09e83f1d1c99ad33009dbe6fb129c2d9  \\\n",
       "1                        hidserv.dll  3030f19c6a73367d6d5eedd157f5d01a   \n",
       "2         DmApiSetExtImplDesktop.dll  8271846f8f5dd1cfddaa957b1b9da1a2   \n",
       "3               FSResizerSetup27.exe  5802b4215566bb9593a736e945a28e99   \n",
       "4                      asc-setup.exe  8cb1fb45489d065720285deeccbacd98   \n",
       "\n",
       "   Machine  SizeOfOptionalHeader  Characteristics  MajorLinkerVersion   \n",
       "0    34404                   240             8226                  14  \\\n",
       "1    34404                   240             8226                  14   \n",
       "2    34404                   240             8226                  14   \n",
       "3      332                   224              271                   6   \n",
       "4      332                   224            33167                   2   \n",
       "\n",
       "   MinorLinkerVersion  SizeOfCode  SizeOfInitializedData   \n",
       "0                  12      779776                 253952  \\\n",
       "1                  12       21504                  13312   \n",
       "2                  12       33792                  27648   \n",
       "3                   0       23552                 164864   \n",
       "4                  25       87040                  71680   \n",
       "\n",
       "   SizeOfUninitializedData  ...  ResourcesNb  ResourcesMeanEntropy   \n",
       "0                        0  ...            2              3.072050  \\\n",
       "1                        0  ...            3              3.056204   \n",
       "2                        0  ...            1              3.466474   \n",
       "3                     1024  ...            9              3.032143   \n",
       "4                        0  ...           19              4.402265   \n",
       "\n",
       "   ResourcesMinEntropy  ResourcesMaxEntropy  ResourcesMeanSize   \n",
       "0             2.706833             3.437268         604.000000  \\\n",
       "1             2.709457             3.465499         515.333333   \n",
       "2             3.466474             3.466474         980.000000   \n",
       "3             1.971335             5.102472         363.444444   \n",
       "4             2.699131             6.600332        3275.473684   \n",
       "\n",
       "   ResourcesMinSize  ResourcesMaxSize  LoadConfigurationSize   \n",
       "0               200              1008                    256  \\\n",
       "1               200               932                    256   \n",
       "2               980               980                    256   \n",
       "3                34               744                      0   \n",
       "4                16             33512                      0   \n",
       "\n",
       "   VersionInformationSize  legitimate  \n",
       "0                      16           1  \n",
       "1                      16           1  \n",
       "2                      16           1  \n",
       "3                       0           1  \n",
       "4                      15           1  \n",
       "\n",
       "[5 rows x 57 columns]"
      ]
     },
     "execution_count": 45,
     "metadata": {},
     "output_type": "execute_result"
    }
   ],
   "source": [
    "df.head()"
   ]
  },
  {
   "cell_type": "code",
   "execution_count": null,
   "metadata": {},
   "outputs": [],
   "source": [
    "x = df.drop(columns=[\"legitimate\"],axis=0)\n",
    "y = df[\"legitimate\"]"
   ]
  },
  {
   "cell_type": "code",
   "execution_count": null,
   "metadata": {},
   "outputs": [],
   "source": [
    "# pre-processing the data\n",
    "X = preprocessor.fit_transform(x)"
   ]
  },
  {
   "cell_type": "code",
   "execution_count": null,
   "metadata": {},
   "outputs": [],
   "source": [
    "#splitting the dataset\n",
    "X_train,X_test,y_train,y_test = train_test_split(X,y,test_size=0.23,random_state=42)"
   ]
  },
  {
   "cell_type": "code",
   "execution_count": null,
   "metadata": {},
   "outputs": [],
   "source": [
    "#converting the data into numpy array\n",
    "\n",
    "X_train = X_train.toarray()\n",
    "y_train = y_train.to_numpy()\n",
    "\n",
    "X_test = X_test.toarray()\n",
    "y_test = y_test.to_numpy()"
   ]
  },
  {
   "cell_type": "code",
   "execution_count": null,
   "metadata": {},
   "outputs": [
    {
     "name": "stdout",
     "output_type": "stream",
     "text": [
      "Model: \"sequential_7\"\n",
      "_________________________________________________________________\n",
      " Layer (type)                Output Shape              Param #   \n",
      "=================================================================\n",
      " dense_12 (Dense)            (None, 64)                1352000   \n",
      "                                                                 \n",
      " dense_13 (Dense)            (None, 32)                2080      \n",
      "                                                                 \n",
      " dense_14 (Dense)            (None, 1)                 33        \n",
      "                                                                 \n",
      "=================================================================\n",
      "Total params: 1,354,113\n",
      "Trainable params: 1,354,113\n",
      "Non-trainable params: 0\n",
      "_________________________________________________________________\n"
     ]
    }
   ],
   "source": [
    "model = keras.Sequential()\n",
    "model.add(layers.Dense(64, activation='relu', input_dim=X_train.shape[1]))\n",
    "model.add(layers.Dense(32, activation='relu'))\n",
    "model.add(layers.Dense(1, activation='sigmoid'))\n",
    "model.summary()"
   ]
  },
  {
   "cell_type": "code",
   "execution_count": null,
   "metadata": {},
   "outputs": [
    {
     "name": "stdout",
     "output_type": "stream",
     "text": [
      "Epoch 1/10\n",
      "203/203 [==============================] - 7s 32ms/step - loss: 0.1768 - accuracy: 0.9587 - val_loss: 0.1067 - val_accuracy: 0.9593\n",
      "Epoch 2/10\n",
      "203/203 [==============================] - 6s 29ms/step - loss: 0.0756 - accuracy: 0.9700 - val_loss: 0.0962 - val_accuracy: 0.9630\n",
      "Epoch 3/10\n",
      "203/203 [==============================] - 7s 34ms/step - loss: 0.0501 - accuracy: 0.9840 - val_loss: 0.0919 - val_accuracy: 0.9649\n",
      "Epoch 4/10\n",
      "203/203 [==============================] - 6s 28ms/step - loss: 0.0238 - accuracy: 0.9938 - val_loss: 0.0873 - val_accuracy: 0.9655\n",
      "Epoch 5/10\n",
      "203/203 [==============================] - 6s 30ms/step - loss: 0.0076 - accuracy: 0.9991 - val_loss: 0.0911 - val_accuracy: 0.9581\n",
      "Epoch 6/10\n",
      "203/203 [==============================] - 6s 30ms/step - loss: 0.0027 - accuracy: 0.9994 - val_loss: 0.0875 - val_accuracy: 0.9636\n",
      "Epoch 7/10\n",
      "203/203 [==============================] - 6s 31ms/step - loss: 0.0021 - accuracy: 0.9995 - val_loss: 0.0928 - val_accuracy: 0.9643\n",
      "Epoch 8/10\n",
      "203/203 [==============================] - 6s 31ms/step - loss: 0.0080 - accuracy: 0.9986 - val_loss: 0.0952 - val_accuracy: 0.9606\n",
      "Epoch 9/10\n",
      "203/203 [==============================] - 6s 28ms/step - loss: 0.0024 - accuracy: 0.9995 - val_loss: 0.1127 - val_accuracy: 0.9556\n",
      "Epoch 10/10\n",
      "203/203 [==============================] - 5s 26ms/step - loss: 4.9344e-04 - accuracy: 1.0000 - val_loss: 0.0979 - val_accuracy: 0.9630\n"
     ]
    },
    {
     "data": {
      "text/plain": [
       "<keras.callbacks.History at 0x21caa0bbca0>"
      ]
     },
     "execution_count": 80,
     "metadata": {},
     "output_type": "execute_result"
    }
   ],
   "source": [
    "# Compile the model\n",
    "model.compile(optimizer='adam', loss='binary_crossentropy', metrics=['accuracy'])\n",
    "\n",
    "# Train the model\n",
    "model.fit(X_train, y_train, epochs=10, batch_size=32, validation_split=0.2)"
   ]
  },
  {
   "cell_type": "code",
   "execution_count": null,
   "metadata": {},
   "outputs": [
    {
     "name": "stdout",
     "output_type": "stream",
     "text": [
      "76/76 [==============================] - 0s 5ms/step - loss: 0.1030 - accuracy: 0.9625\n"
     ]
    },
    {
     "data": {
      "text/plain": [
       "[0.10298366099596024, 0.9624587297439575]"
      ]
     },
     "execution_count": 81,
     "metadata": {},
     "output_type": "execute_result"
    }
   ],
   "source": [
    "model.evaluate(X_test, y_test)"
   ]
  },
  {
   "cell_type": "code",
   "execution_count": null,
   "metadata": {},
   "outputs": [
    {
     "name": "stdout",
     "output_type": "stream",
     "text": [
      "76/76 [==============================] - 0s 4ms/step\n"
     ]
    }
   ],
   "source": [
    "results= model.predict(X_test)\n",
    "results =  np.argmax(results,axis= 1)    "
   ]
  }
 ],
 "metadata": {
  "kernelspec": {
   "display_name": "malware",
   "language": "python",
   "name": "python3"
  },
  "language_info": {
   "codemirror_mode": {
    "name": "ipython",
    "version": 3
   },
   "file_extension": ".py",
   "mimetype": "text/x-python",
   "name": "python",
   "nbconvert_exporter": "python",
   "pygments_lexer": "ipython3",
   "version": "3.10.3"
  },
  "orig_nbformat": 4
 },
 "nbformat": 4,
 "nbformat_minor": 2
}
